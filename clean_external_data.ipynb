{
 "cells": [
  {
   "cell_type": "code",
   "execution_count": 1,
   "metadata": {},
   "outputs": [],
   "source": [
    "import pandas as pd\n",
    "import numpy as np\n",
    "import os"
   ]
  },
  {
   "cell_type": "code",
   "execution_count": 2,
   "metadata": {},
   "outputs": [],
   "source": [
    "filename = ['ETH-USD.csv',\n",
    "            'BTC-USD.csv',\n",
    "            'GME.csv',\n",
    "            'AMC.csv']\n",
    "\n",
    "df = pd.read_csv(f'../data/csv/{filename[0]}')\n",
    "df['Return'] = (df.Close/df.Open -1)\n",
    "df['Stock'] = [filename[0][:3]]*len(df)\n",
    "\n",
    "for i in range(1, len(filename)):\n",
    "    df_tmp = pd.read_csv(f'../data/csv/{filename[i]}')\n",
    "    df_tmp['Return'] = (df_tmp.Close/df_tmp.Open -1)\n",
    "    df_tmp['Stock'] = [filename[i][:3]]*len(df_tmp)\n",
    "    df = pd.concat([df, df_tmp])"
   ]
  },
  {
   "cell_type": "code",
   "execution_count": 3,
   "metadata": {},
   "outputs": [
    {
     "data": {
      "text/html": [
       "<div>\n",
       "<style scoped>\n",
       "    .dataframe tbody tr th:only-of-type {\n",
       "        vertical-align: middle;\n",
       "    }\n",
       "\n",
       "    .dataframe tbody tr th {\n",
       "        vertical-align: top;\n",
       "    }\n",
       "\n",
       "    .dataframe thead tr th {\n",
       "        text-align: left;\n",
       "    }\n",
       "\n",
       "    .dataframe thead tr:last-of-type th {\n",
       "        text-align: right;\n",
       "    }\n",
       "</style>\n",
       "<table border=\"1\" class=\"dataframe\">\n",
       "  <thead>\n",
       "    <tr>\n",
       "      <th></th>\n",
       "      <th colspan=\"2\" halign=\"left\">Date</th>\n",
       "    </tr>\n",
       "    <tr>\n",
       "      <th></th>\n",
       "      <th>min</th>\n",
       "      <th>max</th>\n",
       "    </tr>\n",
       "    <tr>\n",
       "      <th>Stock</th>\n",
       "      <th></th>\n",
       "      <th></th>\n",
       "    </tr>\n",
       "  </thead>\n",
       "  <tbody>\n",
       "    <tr>\n",
       "      <th>AMC</th>\n",
       "      <td>2021-01-04</td>\n",
       "      <td>2022-09-01</td>\n",
       "    </tr>\n",
       "    <tr>\n",
       "      <th>BTC</th>\n",
       "      <td>2021-01-01</td>\n",
       "      <td>2022-09-01</td>\n",
       "    </tr>\n",
       "    <tr>\n",
       "      <th>ETH</th>\n",
       "      <td>2021-01-01</td>\n",
       "      <td>2022-09-01</td>\n",
       "    </tr>\n",
       "    <tr>\n",
       "      <th>GME</th>\n",
       "      <td>2021-01-04</td>\n",
       "      <td>2022-09-01</td>\n",
       "    </tr>\n",
       "  </tbody>\n",
       "</table>\n",
       "</div>"
      ],
      "text/plain": [
       "             Date            \n",
       "              min         max\n",
       "Stock                        \n",
       "AMC    2021-01-04  2022-09-01\n",
       "BTC    2021-01-01  2022-09-01\n",
       "ETH    2021-01-01  2022-09-01\n",
       "GME    2021-01-04  2022-09-01"
      ]
     },
     "execution_count": 3,
     "metadata": {},
     "output_type": "execute_result"
    }
   ],
   "source": [
    "df.groupby('Stock', as_index=False)[['Date']].agg(['min','max'])"
   ]
  },
  {
   "cell_type": "code",
   "execution_count": 4,
   "metadata": {},
   "outputs": [],
   "source": [
    "date = df[['Date']].drop_duplicates()\n",
    "date['Stock'] = [filename[0][:3]]* date.shape[0]\n",
    "\n",
    "for i in range(1, len(filename)):\n",
    "    date_tmp = df[['Date']].drop_duplicates()\n",
    "    date_tmp['Stock'] = [filename[i][:3]] * date_tmp.shape[0]\n",
    "    date = pd.concat([date, date_tmp])"
   ]
  },
  {
   "cell_type": "code",
   "execution_count": 5,
   "metadata": {},
   "outputs": [],
   "source": [
    "df_clean = pd.merge(date, df[['Date','Stock','Return']], on=['Date','Stock'], how='left', copy=False)\n",
    "df_clean = df_clean.sort_values(['Stock','Date']).fillna(method='bfill')"
   ]
  },
  {
   "cell_type": "code",
   "execution_count": 6,
   "metadata": {},
   "outputs": [],
   "source": [
    "df_clean.to_csv('../data/csv/meme_stock_return.csv', index=False)"
   ]
  }
 ],
 "metadata": {
  "kernelspec": {
   "display_name": "Python 3.10.4 64-bit",
   "language": "python",
   "name": "python3"
  },
  "language_info": {
   "codemirror_mode": {
    "name": "ipython",
    "version": 3
   },
   "file_extension": ".py",
   "mimetype": "text/x-python",
   "name": "python",
   "nbconvert_exporter": "python",
   "pygments_lexer": "ipython3",
   "version": "3.10.4"
  },
  "orig_nbformat": 4,
  "vscode": {
   "interpreter": {
    "hash": "3ad933181bd8a04b432d3370b9dc3b0662ad032c4dfaa4e4f1596c548f763858"
   }
  }
 },
 "nbformat": 4,
 "nbformat_minor": 2
}
